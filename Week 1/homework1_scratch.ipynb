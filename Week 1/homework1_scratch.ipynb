{
 "metadata": {
  "language": "haskell",
  "signature": "sha256:94512a319e95136d79dcd78c4cdfdf3423587352abdb7fe4c1adc8247159093e"
 },
 "nbformat": 3,
 "nbformat_minor": 0,
 "worksheets": [
  {
   "cells": [
    {
     "cell_type": "code",
     "collapsed": false,
     "input": [
      "x :: Integer\n",
      "x = 345\n",
      "s :: String\n",
      "s = show x\n",
      "\n",
      "c :: [Char]\n",
      "c = ['3', '4', '5']\n",
      "\n",
      "same = s == c\n",
      "print same"
     ],
     "language": "python",
     "metadata": {},
     "outputs": [
      {
       "metadata": {},
       "output_type": "display_data",
       "text": [
        "True"
       ]
      }
     ],
     "prompt_number": 12
    },
    {
     "cell_type": "code",
     "collapsed": false,
     "input": [
      "x :: Integer\n",
      "x = 34567\n",
      "\n",
      "sh :: String\n",
      "sh = show x\n",
      "\n",
      "-- print sh\n"
     ],
     "language": "python",
     "metadata": {},
     "outputs": [
      {
       "metadata": {},
       "output_type": "display_data",
       "text": [
        "\"34567\""
       ]
      }
     ],
     "prompt_number": 15
    },
    {
     "cell_type": "code",
     "collapsed": false,
     "input": [
      "import Data.Char\n",
      "digitize :: String -> [Integer]\n",
      "digitize [] = []\n",
      "digitize (x:xs) = toInteger (digitToInt x) : digitize xs\n",
      "digitize n = []\n",
      "\n",
      "digitize \"2456\"\n",
      "digitize \"2\"\n",
      "digitize \"\""
     ],
     "language": "python",
     "metadata": {
      "hidden": false
     },
     "outputs": [
      {
       "metadata": {},
       "output_type": "display_data",
       "text": [
        "[2,4,5,6]"
       ]
      },
      {
       "metadata": {},
       "output_type": "display_data",
       "text": [
        "[2]"
       ]
      },
      {
       "metadata": {},
       "output_type": "display_data",
       "text": [
        "[]"
       ]
      }
     ],
     "prompt_number": 20
    },
    {
     "cell_type": "code",
     "collapsed": false,
     "input": [
      "itos :: Integer -> String\n",
      "itos n = show n\n",
      "\n",
      "itos 1534\n",
      "\n"
     ],
     "language": "python",
     "metadata": {
      "hidden": false
     },
     "outputs": [
      {
       "metadata": {},
       "output_type": "display_data",
       "text": [
        "\"1534\""
       ]
      }
     ],
     "prompt_number": 17
    },
    {
     "cell_type": "code",
     "collapsed": false,
     "input": [
      "-- toDigits takes an Integer and turns it into a list of the digits in\n",
      "--  the integer.\n",
      "--  Ex: toDigits 1234 == [1,2,3,4]\n",
      "\n",
      "toDigits :: Integer -> [Integer]\n",
      "toDigits 0 = []\n",
      "toDigits n\n",
      " | n < 0 = []\n",
      " | otherwise = digitize (itos n)\n",
      " \n",
      "toDigits 1234\n",
      "toDigits 0\n",
      "toDigits (-17)"
     ],
     "language": "python",
     "metadata": {
      "hidden": false
     },
     "outputs": [
      {
       "metadata": {},
       "output_type": "display_data",
       "text": [
        "[1,2,3,4]"
       ]
      },
      {
       "metadata": {},
       "output_type": "display_data",
       "text": [
        "[]"
       ]
      },
      {
       "metadata": {},
       "output_type": "display_data",
       "text": [
        "[]"
       ]
      }
     ],
     "prompt_number": 21
    },
    {
     "cell_type": "code",
     "collapsed": false,
     "input": [
      "-- toDigitsRev does the same thing as toDigits, but then reverses the list.\n",
      "\n",
      "toDigitsRev :: Integer -> [Integer]\n",
      "toDigitsRev n = reverse (toDigits n)\n",
      "\n",
      "toDigitsRev 1234"
     ],
     "language": "python",
     "metadata": {},
     "outputs": [
      {
       "metadata": {},
       "output_type": "display_data",
       "text": [
        "[4,3,2,1]"
       ]
      }
     ],
     "prompt_number": 68
    },
    {
     "cell_type": "code",
     "collapsed": false,
     "input": [
      "-- doubleEveryOther takes an array of integers and doubles every other\n",
      "--  number BEGINNING FROM THE RIGHT\n",
      "-- Ex: doubleEveryOther [1,2,3] == [1,4,3]\n",
      "-- Ex: doubleEveryOther [8,7,6,5] == [16,7,12,5]\n",
      "\n",
      "doubleEveryOther :: [Integer] -> [Integer]\n"
     ],
     "language": "python",
     "metadata": {
      "hidden": false
     },
     "outputs": []
    },
    {
     "cell_type": "code",
     "collapsed": false,
     "input": [
      "test :: [Integer] -> [Integer]\n",
      "test (x:xs) = xs\n",
      "\n",
      "test [4,1,3]"
     ],
     "language": "python",
     "metadata": {},
     "outputs": [
      {
       "metadata": {},
       "output_type": "display_data",
       "text": [
        "[1,3]"
       ]
      }
     ],
     "prompt_number": 74
    },
    {
     "cell_type": "code",
     "collapsed": false,
     "input": [
      "fn :: [Integer] -> [Integer]\n",
      "fn [] = []\n",
      "fn (x:y:xs) = x : 2*y : fn xs\n",
      "fn (x:xs) = x : 2*xs\n",
      "fn (x) = x\n",
      "\n",
      "fn [1,2,3,4]\n",
      "\n",
      "\n"
     ],
     "language": "python",
     "metadata": {
      "hidden": false
     },
     "outputs": [
      {
       "html": [
        "<span class='err-msg'>No instance for (Num [Integer]) arising from a use of \u2018*\u2019<br/>In the second argument of \u2018(:)\u2019, namely \u20182 * xs\u2019<br/>In the expression: x : 2 * xs<br/>In an equation for \u2018fn\u2019: fn (x : xs) = x : 2 * xs</span>"
       ],
       "metadata": {},
       "output_type": "display_data",
       "text": [
        "No instance for (Num [Integer]) arising from a use of \u2018*\u2019\n",
        "In the second argument of \u2018(:)\u2019, namely \u20182 * xs\u2019\n",
        "In the expression: x : 2 * xs\n",
        "In an equation for \u2018fn\u2019: fn (x : xs) = x : 2 * xs"
       ]
      }
     ],
     "prompt_number": 14
    },
    {
     "cell_type": "code",
     "collapsed": false,
     "input": [
      "1 : 2"
     ],
     "language": "python",
     "metadata": {
      "hidden": false
     },
     "outputs": [
      {
       "html": [
        "<span class='err-msg'>No instance for (Num [a0]) arising from a use of \u2018it\u2019<br/>In a stmt of an interactive GHCi command: print it</span>"
       ],
       "metadata": {},
       "output_type": "display_data",
       "text": [
        "No instance for (Num [a0]) arising from a use of \u2018it\u2019\n",
        "In a stmt of an interactive GHCi command: print it"
       ]
      }
     ],
     "prompt_number": 11
    },
    {
     "cell_type": "code",
     "collapsed": false,
     "input": [
      "-- lastDigit gets the last digit from a number\n",
      "--  Ex: lastDigit 123 -> 3\n",
      "--  Ex: lastDigit 1234 -> 4\n",
      "--  Ex: lastDigit 5 -> 5\n",
      "lastDigit :: Integer -> Integer\n",
      "lastDigit n = last (digitize (itos n))\n",
      "\n",
      "lastDigit 123\n"
     ],
     "language": "python",
     "metadata": {
      "hidden": false
     },
     "outputs": [
      {
       "metadata": {},
       "output_type": "display_data",
       "text": [
        "3"
       ]
      }
     ],
     "prompt_number": 32
    },
    {
     "cell_type": "code",
     "collapsed": false,
     "input": [
      "show 1234\n",
      "init \"1234\"\n",
      "read \"123\" :: Integer"
     ],
     "language": "python",
     "metadata": {
      "hidden": false
     },
     "outputs": [
      {
       "metadata": {},
       "output_type": "display_data",
       "text": [
        "\"1234\""
       ]
      },
      {
       "metadata": {},
       "output_type": "display_data",
       "text": [
        "\"123\""
       ]
      },
      {
       "metadata": {},
       "output_type": "display_data",
       "text": [
        "123"
       ]
      }
     ],
     "prompt_number": 39
    },
    {
     "cell_type": "code",
     "collapsed": false,
     "input": [
      "-- BROKEN, trying again.\n",
      "-- Drop the last digit from a number\n",
      "--  Ex: dropLastDigit 123 -> 12\n",
      "--  Ex: dropLastDigit 1234 -> 123\n",
      "--  Ex: dropLastDigit 5 -> 0\n",
      "--  Ex: dropLastDigit 10 -> 1\n",
      "--  Ex: dropLastDigit 0 -> 0\n",
      "\n",
      "dropLastDigit :: Integer -> Integer\n",
      "dropLastDigit n = read (init (show n)) :: Integer\n",
      "\n",
      "dropLastDigit 0\n"
     ],
     "language": "python",
     "metadata": {
      "hidden": false
     },
     "outputs": [
      {
       "html": [
        "<span class='err-msg'>Prelude.read: no parse</span>"
       ],
       "metadata": {},
       "output_type": "display_data",
       "text": [
        "Prelude.read: no parse"
       ]
      }
     ],
     "prompt_number": 46
    },
    {
     "cell_type": "code",
     "collapsed": false,
     "input": [
      "show 5\n",
      "init \"5\"\n",
      "read \"\" :: Integer"
     ],
     "language": "python",
     "metadata": {
      "hidden": false
     },
     "outputs": [
      {
       "metadata": {},
       "output_type": "display_data",
       "text": [
        "\"5\""
       ]
      },
      {
       "metadata": {},
       "output_type": "display_data",
       "text": [
        "\"\""
       ]
      },
      {
       "html": [
        "<span class='err-msg'>Prelude.read: no parse</span>"
       ],
       "metadata": {},
       "output_type": "display_data",
       "text": [
        "Prelude.read: no parse"
       ]
      }
     ],
     "prompt_number": 47
    },
    {
     "cell_type": "code",
     "collapsed": false,
     "input": [
      "floor (1234 / 10)\n"
     ],
     "language": "python",
     "metadata": {
      "hidden": false
     },
     "outputs": [
      {
       "metadata": {},
       "output_type": "display_data",
       "text": [
        "123"
       ]
      }
     ],
     "prompt_number": 50
    },
    {
     "cell_type": "code",
     "collapsed": false,
     "input": [
      "-- Drop the last digit from a number\n",
      "--  Ex: dropLastDigit 123 -> 12\n",
      "--  Ex: dropLastDigit 1234 -> 123\n",
      "--  Ex: dropLastDigit 5 -> 0\n",
      "--  Ex: dropLastDigit 10 -> 1\n",
      "--  Ex: dropLastDigit 0 -> 0\n",
      "\n",
      "dropLastDigit :: Integer -> Integer\n",
      "dropLastDigit n = n `div` 10\n",
      "\n",
      "dropLastDigit 123\n",
      "dropLastDigit 1234\n",
      "dropLastDigit 5\n",
      "dropLastDigit 10\n",
      "dropLastDigit 0\n",
      "\n"
     ],
     "language": "python",
     "metadata": {
      "hidden": false
     },
     "outputs": [
      {
       "metadata": {},
       "output_type": "display_data",
       "text": [
        "12"
       ]
      },
      {
       "metadata": {},
       "output_type": "display_data",
       "text": [
        "123"
       ]
      },
      {
       "metadata": {},
       "output_type": "display_data",
       "text": [
        "0"
       ]
      },
      {
       "metadata": {},
       "output_type": "display_data",
       "text": [
        "1"
       ]
      },
      {
       "metadata": {},
       "output_type": "display_data",
       "text": [
        "0"
       ]
      }
     ],
     "prompt_number": 63
    },
    {
     "cell_type": "code",
     "collapsed": false,
     "input": [
      "5 `div` 10"
     ],
     "language": "python",
     "metadata": {
      "hidden": false
     },
     "outputs": [
      {
       "metadata": {},
       "output_type": "display_data",
       "text": [
        "0"
       ]
      }
     ],
     "prompt_number": 59
    },
    {
     "cell_type": "code",
     "collapsed": false,
     "input": [
      "sumDigits :: [Integer] -> [Integer]\n",
      "sumDigits [] = []\n",
      "sumDigits (x:y:xs) = x : 2*y : sumDigits xs\n",
      "\n",
      "sumDigits [4,9,5,5]"
     ],
     "language": "python",
     "metadata": {
      "hidden": false
     },
     "outputs": [
      {
       "metadata": {},
       "output_type": "display_data",
       "text": [
        "[4,18,5,10]"
       ]
      }
     ],
     "prompt_number": 65
    },
    {
     "cell_type": "code",
     "collapsed": false,
     "input": [],
     "language": "python",
     "metadata": {
      "hidden": false
     },
     "outputs": []
    }
   ],
   "metadata": {}
  }
 ]
}