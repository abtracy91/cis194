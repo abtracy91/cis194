{
 "metadata": {
  "language": "haskell",
  "signature": "sha256:aa3b44b83993d8e42674e77d9fe9942a9fd673c1a0f251eecb53503aa1765c85"
 },
 "nbformat": 3,
 "nbformat_minor": 0,
 "worksheets": [
  {
   "cells": [
    {
     "cell_type": "code",
     "collapsed": false,
     "input": [
      "-- In code cells, you can write Haskell code.\n",
      "-- Press Shift-Enter or Ctrl-Enter to run and evaluate the code.\n",
      "-- Shift-Enter creates a new cell after running your code.\n",
      "fibs = 0 : 1 : zipWith (+) fibs (tail fibs)\n",
      "let fifth = fibs !! 5\n",
      "print fifth"
     ],
     "language": "python",
     "metadata": {},
     "outputs": [
      {
       "metadata": {},
       "output_type": "display_data",
       "text": [
        "5"
       ]
      }
     ],
     "prompt_number": 1
    },
    {
     "cell_type": "code",
     "collapsed": false,
     "input": [
      "x :: Int\n",
      "x = 3\n",
      "print x"
     ],
     "language": "python",
     "metadata": {},
     "outputs": [
      {
       "metadata": {},
       "output_type": "display_data",
       "text": [
        "3"
       ]
      }
     ],
     "prompt_number": 2
    },
    {
     "cell_type": "code",
     "collapsed": false,
     "input": [
      "y :: Int\n",
      "y = y + 1\n",
      "print y"
     ],
     "language": "python",
     "metadata": {},
     "outputs": []
    },
    {
     "cell_type": "code",
     "collapsed": false,
     "input": [
      "biggestInt, smallestInt :: Int\n",
      "biggestInt = maxBound\n",
      "smallestInt = minBound\n",
      "print biggestInt\n",
      "print smallestInt\n"
     ],
     "language": "python",
     "metadata": {},
     "outputs": [
      {
       "metadata": {},
       "output_type": "display_data",
       "text": [
        "9223372036854775807"
       ]
      },
      {
       "metadata": {},
       "output_type": "display_data",
       "text": [
        "-9223372036854775808"
       ]
      }
     ],
     "prompt_number": 1
    },
    {
     "cell_type": "code",
     "collapsed": false,
     "input": [
      "d1, d2 :: Double\n",
      "d1 = 4.5387\n",
      "d2 = 6.2378e-4\n"
     ],
     "language": "python",
     "metadata": {},
     "outputs": [],
     "prompt_number": 2
    },
    {
     "cell_type": "code",
     "collapsed": false,
     "input": [
      "ex1 = 3+2\n",
      "print ex1\n"
     ],
     "language": "python",
     "metadata": {
      "hidden": false
     },
     "outputs": [
      {
       "metadata": {},
       "output_type": "display_data",
       "text": [
        "5"
       ]
      }
     ],
     "prompt_number": 4
    },
    {
     "cell_type": "code",
     "collapsed": false,
     "input": [
      "+ 3 4"
     ],
     "language": "python",
     "metadata": {},
     "outputs": [
      {
       "html": [
        "<span class='err-msg'>Parse error (line 1, column 1): parse error on input \u2018+\u2019</span>"
       ],
       "metadata": {},
       "output_type": "display_data",
       "text": [
        "Parse error (line 1, column 1): parse error on input \u2018+\u2019"
       ]
      }
     ],
     "prompt_number": 5
    },
    {
     "cell_type": "code",
     "collapsed": false,
     "input": [
      "(+ 3 4)"
     ],
     "language": "python",
     "metadata": {},
     "outputs": [
      {
       "html": [
        "<span class='err-msg'>Could not deduce (Num (a0 -> a)) arising from the ambiguity check for \u2018it\u2019<br/>from the context (Num (a1 -> a), Num a1, Num a) bound by the inferred type for \u2018it\u2019: (Num (a1 -> a), Num a1, Num a) => a -> a at <interactive>:1:1-7<br/>The type variable \u2018a0\u2019 is ambiguous<br/>When checking that \u2018it\u2019 has the inferred type \u2018forall a a1. (Num (a1 -> a), Num a1, Num a) => a -> a\u2019<br/>Probable cause: the inferred type is ambiguous</span>"
       ],
       "metadata": {},
       "output_type": "display_data",
       "text": [
        "Could not deduce (Num (a0 -> a)) arising from the ambiguity check for \u2018it\u2019\n",
        "from the context (Num (a1 -> a), Num a1, Num a) bound by the inferred type for \u2018it\u2019: (Num (a1 -> a), Num a1, Num a) => a -> a at <interactive>:1:1-7\n",
        "The type variable \u2018a0\u2019 is ambiguous\n",
        "When checking that \u2018it\u2019 has the inferred type \u2018forall a a1. (Num (a1 -> a), Num a1, Num a) => a -> a\u2019\n",
        "Probable cause: the inferred type is ambiguous"
       ]
      }
     ],
     "prompt_number": 6
    },
    {
     "cell_type": "code",
     "collapsed": false,
     "input": [
      "d :: Double\n",
      "d = 1.38455\n",
      "di = round d\n",
      "x = di + 1\n",
      "print x"
     ],
     "language": "python",
     "metadata": {},
     "outputs": [
      {
       "metadata": {},
       "output_type": "display_data",
       "text": [
        "2"
       ]
      }
     ],
     "prompt_number": 7
    },
    {
     "cell_type": "code",
     "collapsed": false,
     "input": [
      "1 / 2"
     ],
     "language": "python",
     "metadata": {},
     "outputs": [
      {
       "metadata": {},
       "output_type": "display_data",
       "text": [
        "0.5"
       ]
      }
     ],
     "prompt_number": 8
    },
    {
     "cell_type": "code",
     "collapsed": false,
     "input": [
      "i :: Int\n",
      "i = 1\n",
      "k :: Int\n",
      "k = 2\n",
      "div i k"
     ],
     "language": "python",
     "metadata": {},
     "outputs": [
      {
       "metadata": {},
       "output_type": "display_data",
       "text": [
        "0"
       ]
      }
     ],
     "prompt_number": 10
    },
    {
     "cell_type": "code",
     "collapsed": false,
     "input": [
      "sumtorial :: Integer -> Integer\n",
      "sumtorial 0 = 0\n",
      "sumtorial n = n + sumtorial (n - 1)\n"
     ],
     "language": "python",
     "metadata": {},
     "outputs": [],
     "prompt_number": 11
    },
    {
     "cell_type": "code",
     "collapsed": false,
     "input": [
      "hailstone :: Integer -> Integer\n",
      "hailstone n\n",
      " | n `mod` 2 == 0 = n `div` 2\n",
      " | otherwise = 3*n + 1\n",
      " \n",
      "x :: Integer\n",
      "x = 3\n",
      "hailstone x\n",
      "\n",
      "hailstone 3"
     ],
     "language": "python",
     "metadata": {
      "hidden": false
     },
     "outputs": [
      {
       "metadata": {},
       "output_type": "display_data",
       "text": [
        "10"
       ]
      },
      {
       "metadata": {},
       "output_type": "display_data",
       "text": [
        "10"
       ]
      }
     ],
     "prompt_number": 3
    },
    {
     "cell_type": "code",
     "collapsed": false,
     "input": [
      "hailstone1 :: Integer -> Integer\n",
      "hailstone1 n\n",
      " | n `mod` 2 == 0 = n `div` 2\n",
      " | True = 3*n + 1\n",
      "\n",
      "hailstone1 3"
     ],
     "language": "python",
     "metadata": {},
     "outputs": [
      {
       "html": [
        " <div class=\"suggestion-name\" style=\"clear:both;\">Use otherwise</div>  <div class=\"suggestion-row\" style=\"float: left;\"> <div class=\"suggestion-warning\">Found:</div>  <div class=\"highlight-code\" id=\"haskell\">hailstone1 :: Integer -> Integer hailstone1 n\n",
        "  | n `mod` 2 == 0 = n `div` 2\n",
        "  | True = 3 * n + 1</div> </div>  <div class=\"suggestion-row\" style=\"float: left;\"> <div class=\"suggestion-warning\">Why Not:</div>  <div class=\"highlight-code\" id=\"haskell\">hailstone1 :: Integer -> Integer hailstone1 n\n",
        "  | n `mod` 2 == 0 = n `div` 2\n",
        "  | otherwise = 3 * n + 1</div> </div> "
       ],
       "metadata": {},
       "output_type": "display_data",
       "text": [
        "Line 1: Use otherwise\n",
        "Found:\n",
        "hailstone1 :: Integer -> Integer hailstone1 n\n",
        "  | n `mod` 2 == 0 = n `div` 2\n",
        "  | True = 3 * n + 1\n",
        "Why not:\n",
        "hailstone1 :: Integer -> Integer hailstone1 n\n",
        "  | n `mod` 2 == 0 = n `div` 2\n",
        "  | otherwise = 3 * n + 1"
       ]
      },
      {
       "metadata": {},
       "output_type": "display_data",
       "text": [
        "10"
       ]
      }
     ],
     "prompt_number": 22
    },
    {
     "cell_type": "code",
     "collapsed": false,
     "input": [
      "sumPair :: (Int, Int) -> Int\n",
      "sumPair (x,y) = x + y\n",
      "\n",
      "sumPair (2,2)\n",
      "sumPair (2, 3)"
     ],
     "language": "python",
     "metadata": {},
     "outputs": [
      {
       "metadata": {},
       "output_type": "display_data",
       "text": [
        "4"
       ]
      },
      {
       "metadata": {},
       "output_type": "display_data",
       "text": [
        "5"
       ]
      }
     ],
     "prompt_number": 23
    },
    {
     "cell_type": "code",
     "collapsed": false,
     "input": [
      "hello1 :: [Char]\n",
      "hello1 = ['h', 'e', 'l', 'l', 'o']\n",
      "\n",
      "hello2 :: String\n",
      "hello2 = \"hello\"\n",
      "\n",
      "helloSame = hello1 == hello2\n",
      "print helloSame"
     ],
     "language": "python",
     "metadata": {},
     "outputs": [],
     "prompt_number": 26
    },
    {
     "cell_type": "code",
     "collapsed": false,
     "input": [
      "hailstoneSeq :: Integer -> [Integer]\n",
      "hailstoneSeq 1 = [1]\n",
      "hailstoneSeq n = n : hailstoneSeq (hailstone n)\n",
      "\n",
      "hailstoneSeq 8\n"
     ],
     "language": "python",
     "metadata": {
      "hidden": false
     },
     "outputs": [
      {
       "metadata": {},
       "output_type": "display_data",
       "text": [
        "[8,4,2,1]"
       ]
      }
     ],
     "prompt_number": 6
    },
    {
     "cell_type": "code",
     "collapsed": false,
     "input": [
      "hailstone 2\n"
     ],
     "language": "python",
     "metadata": {
      "hidden": false
     },
     "outputs": [
      {
       "metadata": {},
       "output_type": "display_data",
       "text": [
        "1"
       ]
      }
     ],
     "prompt_number": 4
    },
    {
     "cell_type": "code",
     "collapsed": false,
     "input": [
      "sumEveryTwo :: [Integer] -> [Integer]\n",
      "sumEveryTwo [] = [] -- Do nothing to empty list\n",
      "sumEveryTwo (x:[]) = [x] -- Do nothing to 1 element\n",
      "sumEveryTwo (x:(y:zs)) = (x + y) : sumEveryTwo zs\n",
      "\n",
      "sumEveryTwo [1, 2, 1, 2, 1, 3, 1, 3, 5, 5]\n"
     ],
     "language": "python",
     "metadata": {
      "hidden": false
     },
     "outputs": [
      {
       "metadata": {},
       "output_type": "display_data",
       "text": [
        "[3,3,4,4,10]"
       ]
      }
     ],
     "prompt_number": 7
    },
    {
     "cell_type": "code",
     "collapsed": false,
     "input": [
      "-- Compute the length of a list on Integers\n",
      "intListLength :: [Integer] -> Integer\n",
      "intListLength [] = 0\n",
      "intListLength (x:xs) = 1 + intListLength xs\n",
      "\n",
      "intListLength [1,2,3,4,5,6]"
     ],
     "language": "python",
     "metadata": {
      "hidden": false
     },
     "outputs": [
      {
       "metadata": {},
       "output_type": "display_data",
       "text": [
        "6"
       ]
      }
     ],
     "prompt_number": 9
    },
    {
     "cell_type": "code",
     "collapsed": false,
     "input": [
      "hailstoneLen :: Integer -> Integer\n",
      "hailstoneLen n = intListLength (hailstoneSeq n) - 1\n",
      "\n",
      "hailstoneLen 12\n"
     ],
     "language": "python",
     "metadata": {
      "hidden": false
     },
     "outputs": [
      {
       "metadata": {},
       "output_type": "display_data",
       "text": [
        "9"
       ]
      }
     ],
     "prompt_number": 10
    },
    {
     "cell_type": "code",
     "collapsed": false,
     "input": [],
     "language": "python",
     "metadata": {
      "hidden": false
     },
     "outputs": []
    }
   ],
   "metadata": {}
  }
 ]
}