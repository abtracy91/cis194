{
 "metadata": {
  "language": "haskell",
  "signature": "sha256:469c4611490ce6c74d8d4771e029632c99d7eb2df49cb69b18e9f5086492c446"
 },
 "nbformat": 3,
 "nbformat_minor": 0,
 "worksheets": [
  {
   "cells": [
    {
     "cell_type": "code",
     "collapsed": false,
     "input": [
      "[0,1,0] + [1,1,0]"
     ],
     "language": "python",
     "metadata": {
      "hidden": false
     },
     "outputs": [
      {
       "html": [
        "<span class='err-msg'>No instance for (Num [t0]) arising from a use of \u2018it\u2019<br/>In a stmt of an interactive GHCi command: print it</span>"
       ],
       "metadata": {},
       "output_type": "display_data",
       "text": [
        "No instance for (Num [t0]) arising from a use of \u2018it\u2019\n",
        "In a stmt of an interactive GHCi command: print it"
       ]
      }
     ],
     "prompt_number": 1
    },
    {
     "cell_type": "code",
     "collapsed": false,
     "input": [
      "sumArray :: [Int] -> [Int] -> [Int]\n",
      "sumArray [] (_) = []\n",
      "sumArray (_) [] = []\n",
      "sumArray (x:xs) (y:ys) = (x + y) : sumArray xs ys"
     ],
     "language": "python",
     "metadata": {
      "hidden": false
     },
     "outputs": [],
     "prompt_number": 4
    },
    {
     "cell_type": "code",
     "collapsed": false,
     "input": [
      "sumArray [0,1,0] [1,1,0]"
     ],
     "language": "python",
     "metadata": {
      "hidden": false
     },
     "outputs": [
      {
       "metadata": {},
       "output_type": "display_data",
       "text": [
        "[1,2,0]"
       ]
      }
     ],
     "prompt_number": 3
    },
    {
     "cell_type": "code",
     "collapsed": false,
     "input": [
      "data Peg = Red | Green | Blue | Yellow | Orange | Purple\n",
      "    deriving (Show, Eq, Ord)\n",
      "\n",
      "type Code = [Peg]\n",
      "\n",
      "colors :: [Peg]\n",
      "colors = [Red, Green, Blue, Yellow, Orange, Purple]\n",
      "\n",
      "data Move = Move Code Int Int\n",
      "    deriving (Show, Eq)\n"
     ],
     "language": "python",
     "metadata": {
      "hidden": false
     },
     "outputs": [],
     "prompt_number": 65
    },
    {
     "cell_type": "code",
     "collapsed": false,
     "input": [
      "test :: [Int] -> Code -> [Int]\n",
      "test [] (y) = test [0,0,0,0,0,0] (y)\n",
      "test x [] = x\n",
      "test x (y:ys)\n",
      " | y == Red = test (sumArray x [1,0,0,0,0,0]) ys\n",
      " | y == Green = test (sumArray x [0,1,0,0,0,0]) ys\n",
      " | y == Blue = test (sumArray x [0,0,1,0,0,0]) ys\n",
      " | y == Yellow = test (sumArray x [0,0,0,1,0,0]) ys\n",
      " | y == Orange = test (sumArray x [0,0,0,0,1,0]) ys\n",
      " | y == Purple = test (sumArray x [0,0,0,0,0,1]) ys\n",
      " | otherwise = test x ys"
     ],
     "language": "python",
     "metadata": {
      "hidden": false
     },
     "outputs": [],
     "prompt_number": 9
    },
    {
     "cell_type": "code",
     "collapsed": false,
     "input": [
      "test [] [Red, Green, Red]"
     ],
     "language": "python",
     "metadata": {
      "hidden": false
     },
     "outputs": [
      {
       "metadata": {},
       "output_type": "display_data",
       "text": [
        "[2,0,0,0,0,0]"
       ]
      }
     ],
     "prompt_number": 7
    },
    {
     "cell_type": "code",
     "collapsed": false,
     "input": [
      "test [] []"
     ],
     "language": "python",
     "metadata": {
      "hidden": false
     },
     "outputs": [
      {
       "metadata": {},
       "output_type": "display_data",
       "text": [
        "[0,0,0,0,0,0]"
       ]
      }
     ],
     "prompt_number": 10
    },
    {
     "cell_type": "code",
     "collapsed": false,
     "input": [
      "test' = 0\n"
     ],
     "language": "python",
     "metadata": {
      "hidden": false
     },
     "outputs": [],
     "prompt_number": 11
    },
    {
     "cell_type": "code",
     "collapsed": false,
     "input": [
      "test'"
     ],
     "language": "python",
     "metadata": {
      "hidden": false
     },
     "outputs": [
      {
       "metadata": {},
       "output_type": "display_data",
       "text": [
        "0"
       ]
      }
     ],
     "prompt_number": 12
    },
    {
     "cell_type": "code",
     "collapsed": false,
     "input": [
      "countColors :: Code -> [Int]\n",
      "countColors x = test [] x\n"
     ],
     "language": "python",
     "metadata": {
      "hidden": false
     },
     "outputs": [],
     "prompt_number": 13
    },
    {
     "cell_type": "code",
     "collapsed": false,
     "input": [
      "countColors [Red, Blue, Yellow, Purple]\n",
      "countColors [Green, Blue, Green, Orange]"
     ],
     "language": "python",
     "metadata": {
      "hidden": false
     },
     "outputs": [
      {
       "metadata": {},
       "output_type": "display_data",
       "text": [
        "[1,0,1,1,0,1]"
       ]
      },
      {
       "metadata": {},
       "output_type": "display_data",
       "text": [
        "[0,2,1,0,1,0]"
       ]
      }
     ],
     "prompt_number": 14
    },
    {
     "cell_type": "code",
     "collapsed": false,
     "input": [
      "countColors [Red, Blue, Yellow, Orange]\n",
      "countColors [Red, Orange, Orange, Blue]"
     ],
     "language": "python",
     "metadata": {
      "hidden": false
     },
     "outputs": [
      {
       "metadata": {},
       "output_type": "display_data",
       "text": [
        "[1,0,1,1,1,0]"
       ]
      },
      {
       "metadata": {},
       "output_type": "display_data",
       "text": [
        "[1,0,1,0,2,0]"
       ]
      }
     ],
     "prompt_number": 15
    },
    {
     "cell_type": "code",
     "collapsed": false,
     "input": [
      "z' :: Int -> [Int] -> [Int] -> Int\n",
      "z' n [] [] = n\n",
      "z' n (a:as) (b:bs)\n",
      " | (a > 0) && (b > 0) = z' (n+1) ((a-1):as) ((b-1):bs)\n",
      " | otherwise = z' n as bs\n",
      "\n",
      "z :: [Int] -> [Int] -> Int\n",
      "z a b = z' 0 a b\n",
      "\n",
      "matches :: Code -> Code -> Int\n",
      "matches x y = z' 0 (countColors x) (countColors y)"
     ],
     "language": "python",
     "metadata": {
      "hidden": false
     },
     "outputs": [],
     "prompt_number": 32
    },
    {
     "cell_type": "code",
     "collapsed": false,
     "input": [
      "(1 > 0) && (2 > 0)"
     ],
     "language": "python",
     "metadata": {
      "hidden": false
     },
     "outputs": [
      {
       "metadata": {},
       "output_type": "display_data",
       "text": [
        "True"
       ]
      }
     ],
     "prompt_number": 26
    },
    {
     "cell_type": "code",
     "collapsed": false,
     "input": [
      "z [1,0,1,1,1,0] [1,0,1,0,2,0]"
     ],
     "language": "python",
     "metadata": {
      "hidden": false
     },
     "outputs": [
      {
       "metadata": {},
       "output_type": "display_data",
       "text": [
        "3"
       ]
      }
     ],
     "prompt_number": 29
    },
    {
     "cell_type": "code",
     "collapsed": false,
     "input": [
      "matches [Red, Blue, Yellow, Orange] [Red, Orange, Orange, Blue]"
     ],
     "language": "python",
     "metadata": {
      "hidden": false
     },
     "outputs": [
      {
       "metadata": {},
       "output_type": "display_data",
       "text": [
        "3"
       ]
      }
     ],
     "prompt_number": 33
    },
    {
     "cell_type": "code",
     "collapsed": false,
     "input": [
      "x :: Move\n",
      "x = Move [Red, Red, Blue, Green] 1 1\n",
      "x"
     ],
     "language": "python",
     "metadata": {
      "hidden": false
     },
     "outputs": [
      {
       "metadata": {},
       "output_type": "display_data",
       "text": [
        "Move [Red,Red,Blue,Green] 1 1"
       ]
      }
     ],
     "prompt_number": 44
    },
    {
     "cell_type": "code",
     "collapsed": false,
     "input": [
      "breakMove :: Move -> (Code, Int, Int)\n",
      "breakMove (x:xs) = x"
     ],
     "language": "python",
     "metadata": {
      "hidden": false
     },
     "outputs": [
      {
       "html": [
        "<span class='err-msg'>Couldn't match expected type \u2018Move\u2019 with actual type \u2018[(Code, Int, Int)]\u2019<br/>In the pattern: x : xs<br/>In an equation for \u2018breakMove\u2019: breakMove (x : xs) = x</span>"
       ],
       "metadata": {},
       "output_type": "display_data",
       "text": [
        "Couldn't match expected type \u2018Move\u2019 with actual type \u2018[(Code, Int, Int)]\u2019\n",
        "In the pattern: x : xs\n",
        "In an equation for \u2018breakMove\u2019: breakMove (x : xs) = x"
       ]
      }
     ],
     "prompt_number": 51
    },
    {
     "cell_type": "code",
     "collapsed": false,
     "input": [
      "\n",
      "\n",
      "test :: Move -> Code -> Bool\n",
      "test (Move c m nm) t = (getMove c t)\n",
      "\n",
      "\n",
      "test (Move [Red, Red, Blue,Green] 1 1) [Red, Blue, Yellow, Purple]"
     ],
     "language": "python",
     "metadata": {
      "hidden": false
     },
     "outputs": [
      {
       "metadata": {},
       "output_type": "display_data",
       "text": [
        "[Red,Red,Blue,Green]"
       ]
      }
     ],
     "prompt_number": 56
    },
    {
     "cell_type": "code",
     "collapsed": false,
     "input": [
      "data Move = Move Code Int Int\n",
      "          deriving (Show, Eq)\n",
      "data Peg = Red | Green | Blue | Yellow | Orange | Purple\n",
      "         deriving (Show, Eq, Ord)\n",
      "type Code = [Peg]\n",
      "\n",
      "sumArray :: [Int] -> [Int] -> [Int]\n",
      "sumArray [] (_) = []\n",
      "sumArray (_) [] = []\n",
      "sumArray (x:xs) (y:ys) = (x + y) : sumArray xs ys\n",
      "\n",
      "countColors' :: [Int] -> Code -> [Int]\n",
      "countColors' [] (y) = countColors' [0, 0, 0, 0, 0, 0] (y)\n",
      "countColors' x [] = x\n",
      "countColors' x (y:ys)\n",
      " | y == Red = countColors' (sumArray x [1,0,0,0,0,0]) ys\n",
      " | y == Green = countColors' (sumArray x [0,1,0,0,0,0]) ys\n",
      " | y == Blue = countColors' (sumArray x [0,0,1,0,0,0]) ys\n",
      " | y == Yellow = countColors' (sumArray x [0,0,0,1,0,0]) ys\n",
      " | y == Orange = countColors' (sumArray x [0,0,0,0,1,0]) ys\n",
      " | y == Purple = countColors' (sumArray x [0,0,0,0,0,1]) ys\n",
      " | otherwise = countColors' x ys\n",
      "\n",
      "\n",
      "countColors :: Code -> [Int]\n",
      "countColors x = countColors' [] x\n",
      "\n",
      "comparePeg :: Peg -> Peg -> Int\n",
      "comparePeg x y\n",
      " | x == y = 1\n",
      " | otherwise = 0\n",
      "\n",
      "matches' :: Int -> [Int] -> [Int] -> Int\n",
      "matches' n [] (_) = n\n",
      "matches' n (_) [] = n\n",
      "matches' n (a:as) (b:bs)\n",
      " | (a > 0) && (b > 0) = matches' (n+1) ((a-1):as) ((b-1):bs)\n",
      " | otherwise = matches' n as bs\n",
      "\n",
      "matches :: Code -> Code -> Int\n",
      "matches x y = matches' 0 (countColors x) (countColors y)\n",
      "\n",
      "exactMatches :: Code -> Code -> Int\n",
      "exactMatches [] (_) = 0\n",
      "exactMatches (_) [] = 0\n",
      "exactMatches (x:xs) (y:ys) = comparePeg x y + exactMatches xs ys\n",
      "\n",
      "getMove :: Code -> Code -> Move\n",
      "getMove x y = Move y (exactMatches x y) ((matches x y) - 1)"
     ],
     "language": "python",
     "metadata": {
      "hidden": false
     },
     "outputs": [],
     "prompt_number": 6
    },
    {
     "cell_type": "code",
     "collapsed": false,
     "input": [
      "getMove [Red,Red,Blue,Green] [Red,Blue,Yellow,Purple]\n",
      "getMove [Red,Red,Blue,Green] [Red,Blue,Red,Purple]"
     ],
     "language": "python",
     "metadata": {
      "hidden": false
     },
     "outputs": [
      {
       "metadata": {},
       "output_type": "display_data",
       "text": [
        "Move [Red,Blue,Yellow,Purple] 1 1"
       ]
      },
      {
       "metadata": {},
       "output_type": "display_data",
       "text": [
        "Move [Red,Blue,Red,Purple] 1 2"
       ]
      }
     ],
     "prompt_number": 8
    },
    {
     "cell_type": "code",
     "collapsed": false,
     "input": [
      "get1Int :: Move -> Int\n",
      "get1Int (Move code int1 int2) = int1\n",
      "\n",
      "get2Int :: Move -> Int\n",
      "get2Int (Move code int1 int2) = int2"
     ],
     "language": "python",
     "metadata": {
      "hidden": false
     },
     "outputs": [],
     "prompt_number": 10
    },
    {
     "cell_type": "code",
     "collapsed": false,
     "input": [],
     "language": "python",
     "metadata": {
      "hidden": false
     },
     "outputs": []
    }
   ],
   "metadata": {}
  }
 ]
}