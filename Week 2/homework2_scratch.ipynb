{
 "metadata": {
  "language": "haskell",
  "signature": "sha256:7c86cbc320fca665fbc5d86369d25488ddf958067ad49c1c6dce0d484b0fe46b"
 },
 "nbformat": 3,
 "nbformat_minor": 0,
 "worksheets": [
  {
   "cells": [
    {
     "cell_type": "code",
     "collapsed": false,
     "input": [
      "[0,1,0] + [1,1,0]"
     ],
     "language": "python",
     "metadata": {},
     "outputs": [
      {
       "html": [
        "<span class='err-msg'>No instance for (Num [t0]) arising from a use of \u2018it\u2019<br/>In a stmt of an interactive GHCi command: print it</span>"
       ],
       "metadata": {},
       "output_type": "display_data",
       "text": [
        "No instance for (Num [t0]) arising from a use of \u2018it\u2019\n",
        "In a stmt of an interactive GHCi command: print it"
       ]
      }
     ],
     "prompt_number": 1
    },
    {
     "cell_type": "code",
     "collapsed": false,
     "input": [
      "sumArray :: [Int] -> [Int] -> [Int]\n",
      "sumArray [] (_) = []\n",
      "sumArray (_) [] = []\n",
      "sumArray (x:xs) (y:ys) = (x + y) : sumArray xs ys"
     ],
     "language": "python",
     "metadata": {},
     "outputs": [],
     "prompt_number": 4
    },
    {
     "cell_type": "code",
     "collapsed": false,
     "input": [
      "sumArray [0,1,0] [1,1,0]"
     ],
     "language": "python",
     "metadata": {},
     "outputs": [
      {
       "metadata": {},
       "output_type": "display_data",
       "text": [
        "[1,2,0]"
       ]
      }
     ],
     "prompt_number": 3
    },
    {
     "cell_type": "code",
     "collapsed": false,
     "input": [
      "data Peg = Red | Green | Blue | Yellow | Orange | Purple\n",
      "    deriving (Show, Eq, Ord)\n",
      "\n",
      "type Code = [Peg]\n",
      "\n",
      "colors :: [Peg]\n",
      "colors = [Red, Green, Blue, Yellow, Orange, Purple]\n",
      "\n",
      "data Move = Move Code Int Int\n",
      "    deriving (Show, Eq)\n"
     ],
     "language": "python",
     "metadata": {},
     "outputs": [],
     "prompt_number": 65
    },
    {
     "cell_type": "code",
     "collapsed": false,
     "input": [
      "test :: [Int] -> Code -> [Int]\n",
      "test [] (y) = test [0,0,0,0,0,0] (y)\n",
      "test x [] = x\n",
      "test x (y:ys)\n",
      " | y == Red = test (sumArray x [1,0,0,0,0,0]) ys\n",
      " | y == Green = test (sumArray x [0,1,0,0,0,0]) ys\n",
      " | y == Blue = test (sumArray x [0,0,1,0,0,0]) ys\n",
      " | y == Yellow = test (sumArray x [0,0,0,1,0,0]) ys\n",
      " | y == Orange = test (sumArray x [0,0,0,0,1,0]) ys\n",
      " | y == Purple = test (sumArray x [0,0,0,0,0,1]) ys\n",
      " | otherwise = test x ys"
     ],
     "language": "python",
     "metadata": {},
     "outputs": [],
     "prompt_number": 9
    },
    {
     "cell_type": "code",
     "collapsed": false,
     "input": [
      "test [] [Red, Green, Red]"
     ],
     "language": "python",
     "metadata": {},
     "outputs": [
      {
       "metadata": {},
       "output_type": "display_data",
       "text": [
        "[2,0,0,0,0,0]"
       ]
      }
     ],
     "prompt_number": 7
    },
    {
     "cell_type": "code",
     "collapsed": false,
     "input": [
      "test [] []"
     ],
     "language": "python",
     "metadata": {},
     "outputs": [
      {
       "metadata": {},
       "output_type": "display_data",
       "text": [
        "[0,0,0,0,0,0]"
       ]
      }
     ],
     "prompt_number": 10
    },
    {
     "cell_type": "code",
     "collapsed": false,
     "input": [
      "test' = 0\n"
     ],
     "language": "python",
     "metadata": {},
     "outputs": [],
     "prompt_number": 11
    },
    {
     "cell_type": "code",
     "collapsed": false,
     "input": [
      "test'"
     ],
     "language": "python",
     "metadata": {},
     "outputs": [
      {
       "metadata": {},
       "output_type": "display_data",
       "text": [
        "0"
       ]
      }
     ],
     "prompt_number": 12
    },
    {
     "cell_type": "code",
     "collapsed": false,
     "input": [
      "countColors :: Code -> [Int]\n",
      "countColors x = test [] x\n"
     ],
     "language": "python",
     "metadata": {},
     "outputs": [],
     "prompt_number": 13
    },
    {
     "cell_type": "code",
     "collapsed": false,
     "input": [
      "countColors [Red, Blue, Yellow, Purple]\n",
      "countColors [Green, Blue, Green, Orange]"
     ],
     "language": "python",
     "metadata": {},
     "outputs": [
      {
       "metadata": {},
       "output_type": "display_data",
       "text": [
        "[1,0,1,1,0,1]"
       ]
      },
      {
       "metadata": {},
       "output_type": "display_data",
       "text": [
        "[0,2,1,0,1,0]"
       ]
      }
     ],
     "prompt_number": 14
    },
    {
     "cell_type": "code",
     "collapsed": false,
     "input": [
      "countColors [Red, Blue, Yellow, Orange]\n",
      "countColors [Red, Orange, Orange, Blue]"
     ],
     "language": "python",
     "metadata": {},
     "outputs": [
      {
       "metadata": {},
       "output_type": "display_data",
       "text": [
        "[1,0,1,1,1,0]"
       ]
      },
      {
       "metadata": {},
       "output_type": "display_data",
       "text": [
        "[1,0,1,0,2,0]"
       ]
      }
     ],
     "prompt_number": 15
    },
    {
     "cell_type": "code",
     "collapsed": false,
     "input": [
      "z' :: Int -> [Int] -> [Int] -> Int\n",
      "z' n [] [] = n\n",
      "z' n (a:as) (b:bs)\n",
      " | (a > 0) && (b > 0) = z' (n+1) ((a-1):as) ((b-1):bs)\n",
      " | otherwise = z' n as bs\n",
      "\n",
      "z :: [Int] -> [Int] -> Int\n",
      "z a b = z' 0 a b\n",
      "\n",
      "matches :: Code -> Code -> Int\n",
      "matches x y = z' 0 (countColors x) (countColors y)"
     ],
     "language": "python",
     "metadata": {},
     "outputs": [],
     "prompt_number": 32
    },
    {
     "cell_type": "code",
     "collapsed": false,
     "input": [
      "(1 > 0) && (2 > 0)"
     ],
     "language": "python",
     "metadata": {},
     "outputs": [
      {
       "metadata": {},
       "output_type": "display_data",
       "text": [
        "True"
       ]
      }
     ],
     "prompt_number": 26
    },
    {
     "cell_type": "code",
     "collapsed": false,
     "input": [
      "z [1,0,1,1,1,0] [1,0,1,0,2,0]"
     ],
     "language": "python",
     "metadata": {},
     "outputs": [
      {
       "metadata": {},
       "output_type": "display_data",
       "text": [
        "3"
       ]
      }
     ],
     "prompt_number": 29
    },
    {
     "cell_type": "code",
     "collapsed": false,
     "input": [
      "matches [Red, Blue, Yellow, Orange] [Red, Orange, Orange, Blue]"
     ],
     "language": "python",
     "metadata": {},
     "outputs": [
      {
       "metadata": {},
       "output_type": "display_data",
       "text": [
        "3"
       ]
      }
     ],
     "prompt_number": 33
    },
    {
     "cell_type": "code",
     "collapsed": false,
     "input": [
      "x :: Move\n",
      "x = Move [Red, Red, Blue, Green] 1 1\n",
      "x"
     ],
     "language": "python",
     "metadata": {},
     "outputs": [
      {
       "metadata": {},
       "output_type": "display_data",
       "text": [
        "Move [Red,Red,Blue,Green] 1 1"
       ]
      }
     ],
     "prompt_number": 44
    },
    {
     "cell_type": "code",
     "collapsed": false,
     "input": [
      "breakMove :: Move -> (Code, Int, Int)\n",
      "breakMove (x:xs) = x"
     ],
     "language": "python",
     "metadata": {},
     "outputs": [
      {
       "html": [
        "<span class='err-msg'>Couldn't match expected type \u2018Move\u2019 with actual type \u2018[(Code, Int, Int)]\u2019<br/>In the pattern: x : xs<br/>In an equation for \u2018breakMove\u2019: breakMove (x : xs) = x</span>"
       ],
       "metadata": {},
       "output_type": "display_data",
       "text": [
        "Couldn't match expected type \u2018Move\u2019 with actual type \u2018[(Code, Int, Int)]\u2019\n",
        "In the pattern: x : xs\n",
        "In an equation for \u2018breakMove\u2019: breakMove (x : xs) = x"
       ]
      }
     ],
     "prompt_number": 51
    },
    {
     "cell_type": "code",
     "collapsed": false,
     "input": [
      "\n",
      "\n",
      "test :: Move -> Code -> Bool\n",
      "test (Move c m nm) t = (getMove c t)\n",
      "\n",
      "\n",
      "test (Move [Red, Red, Blue,Green] 1 1) [Red, Blue, Yellow, Purple]"
     ],
     "language": "python",
     "metadata": {},
     "outputs": [
      {
       "metadata": {},
       "output_type": "display_data",
       "text": [
        "[Red,Red,Blue,Green]"
       ]
      }
     ],
     "prompt_number": 56
    },
    {
     "cell_type": "code",
     "collapsed": false,
     "input": [
      "data Move = Move Code Int Int\n",
      "          deriving (Show, Eq)\n",
      "data Peg = Red | Green | Blue | Yellow | Orange | Purple\n",
      "         deriving (Show, Eq, Ord)\n",
      "type Code = [Peg]\n",
      "\n",
      "sumArray :: [Int] -> [Int] -> [Int]\n",
      "sumArray [] (_) = []\n",
      "sumArray (_) [] = []\n",
      "sumArray (x:xs) (y:ys) = (x + y) : sumArray xs ys\n",
      "\n",
      "countColors' :: [Int] -> Code -> [Int]\n",
      "countColors' [] (y) = countColors' [0, 0, 0, 0, 0, 0] (y)\n",
      "countColors' x [] = x\n",
      "countColors' x (y:ys)\n",
      " | y == Red = countColors' (sumArray x [1,0,0,0,0,0]) ys\n",
      " | y == Green = countColors' (sumArray x [0,1,0,0,0,0]) ys\n",
      " | y == Blue = countColors' (sumArray x [0,0,1,0,0,0]) ys\n",
      " | y == Yellow = countColors' (sumArray x [0,0,0,1,0,0]) ys\n",
      " | y == Orange = countColors' (sumArray x [0,0,0,0,1,0]) ys\n",
      " | y == Purple = countColors' (sumArray x [0,0,0,0,0,1]) ys\n",
      " | otherwise = countColors' x ys\n",
      "\n",
      "\n",
      "countColors :: Code -> [Int]\n",
      "countColors x = countColors' [] x\n",
      "\n",
      "comparePeg :: Peg -> Peg -> Int\n",
      "comparePeg x y\n",
      " | x == y = 1\n",
      " | otherwise = 0\n",
      "\n",
      "matches' :: Int -> [Int] -> [Int] -> Int\n",
      "matches' n [] (_) = n\n",
      "matches' n (_) [] = n\n",
      "matches' n (a:as) (b:bs)\n",
      " | (a > 0) && (b > 0) = matches' (n+1) ((a-1):as) ((b-1):bs)\n",
      " | otherwise = matches' n as bs\n",
      "\n",
      "matches :: Code -> Code -> Int\n",
      "matches x y = matches' 0 (countColors x) (countColors y)\n",
      "\n",
      "exactMatches :: Code -> Code -> Int\n",
      "exactMatches [] (_) = 0\n",
      "exactMatches (_) [] = 0\n",
      "exactMatches (x:xs) (y:ys) = comparePeg x y + exactMatches xs ys\n",
      "\n",
      "getMove :: Code -> Code -> Move\n",
      "getMove x y = Move y (exactMatches x y) ((matches x y) - 1)"
     ],
     "language": "python",
     "metadata": {
      "hidden": false
     },
     "outputs": [],
     "prompt_number": 3
    },
    {
     "cell_type": "code",
     "collapsed": false,
     "input": [
      "getMove [Red,Red,Blue,Green] [Red,Blue,Yellow,Purple]\n",
      "getMove [Red,Red,Blue,Green] [Red,Blue,Red,Purple]"
     ],
     "language": "python",
     "metadata": {},
     "outputs": [
      {
       "metadata": {},
       "output_type": "display_data",
       "text": [
        "Move [Red,Blue,Yellow,Purple] 1 1"
       ]
      },
      {
       "metadata": {},
       "output_type": "display_data",
       "text": [
        "Move [Red,Blue,Red,Purple] 1 2"
       ]
      }
     ],
     "prompt_number": 8
    },
    {
     "cell_type": "code",
     "collapsed": false,
     "input": [
      "get1Int :: Move -> Int\n",
      "get1Int (Move code int1 int2) = int1\n",
      "\n",
      "get2Int :: Move -> Int\n",
      "get2Int (Move code int1 int2) = int2"
     ],
     "language": "python",
     "metadata": {},
     "outputs": [],
     "prompt_number": 10
    },
    {
     "cell_type": "code",
     "collapsed": false,
     "input": [
      "addPegCode :: Peg -> Code -> Code\n",
      "-- Adds a Peg to the beginning of a Code\n",
      "addPegCode p [] = [p]\n",
      "addPegCode p c = p : c\n",
      "\n",
      "testPeg :: Peg\n",
      "testPeg = Red\n",
      "testCode :: Code\n",
      "testCode = [Blue, Blue, Green]\n",
      "\n",
      "-- addPegCode testPeg testCode\n",
      "\n",
      "allPegs :: [Peg]\n",
      "allPegs = [Red,Green,Blue,Yellow,Orange,Purple]\n",
      "\n",
      "addPegsCode :: [Peg] -> Code -> [Code]\n",
      "-- Adds each peg in a list of pegs to the beginning of a Code\n",
      "addPegsCode [] code = []\n",
      "addPegsCode pegs [] = [pegs]\n",
      "addPegsCode (x:xs) code = (addPegCode x code) : (addPegsCode xs code)\n",
      "\n",
      "addPegsCode allPegs testCode"
     ],
     "language": "python",
     "metadata": {
      "hidden": false
     },
     "outputs": [
      {
       "metadata": {},
       "output_type": "display_data",
       "text": [
        "[[Red,Blue,Blue,Green],[Green,Blue,Blue,Green],[Blue,Blue,Blue,Green],[Yellow,Blue,Blue,Green],[Orange,Blue,Blue,Green],[Purple,Blue,Blue,Green]]"
       ]
      }
     ],
     "prompt_number": 4
    },
    {
     "cell_type": "code",
     "collapsed": false,
     "input": [
      "p :: Peg\n",
      "p = Red\n",
      "c :: Code\n",
      "c = [Blue, Blue]\n",
      "\n",
      "-- p : c\n",
      "\n",
      "c1 = [Blue, Blue]\n",
      "c2 = [Red, Red]\n",
      "c1 : c2"
     ],
     "language": "python",
     "metadata": {
      "hidden": false
     },
     "outputs": [
      {
       "html": [
        "<span class='err-msg'>Couldn't match type \u2018Peg\u2019 with \u2018[Peg]\u2019<br/>Expected type: [[Peg]]<br/>  Actual type: [Peg]<br/>In the second argument of \u2018(:)\u2019, namely \u2018c2\u2019<br/>In the expression: c1 : c2</span>"
       ],
       "metadata": {},
       "output_type": "display_data",
       "text": [
        "Couldn't match type \u2018Peg\u2019 with \u2018[Peg]\u2019\n",
        "Expected type: [[Peg]]\n",
        "  Actual type: [Peg]\n",
        "In the second argument of \u2018(:)\u2019, namely \u2018c2\u2019\n",
        "In the expression: c1 : c2"
       ]
      }
     ],
     "prompt_number": 5
    },
    {
     "cell_type": "code",
     "collapsed": false,
     "input": [
      "addPegCode :: Peg -> Code -> Code\n",
      "-- Adds a Peg to the beginning of a Code\n",
      "addPegCode p [] = [p]\n",
      "addPegCode p c = p : c\n",
      "\n",
      "addPegsCode :: [Peg] -> Code -> [Code]\n",
      "-- Adds each peg in a list of pegs to the beginning of a Code\n",
      "addPegsCode [] code = []\n",
      "addPegsCode pegs [] = [pegs]\n",
      "addPegsCode (x:xs) code = (addPegCode x code) : (addPegsCode xs code)\n",
      "\n",
      "allPegs :: [Peg]\n",
      "allPegs = [Red,Green,Blue,Yellow,Orange,Purple]\n",
      "-- allPegs = [Red,Blue]\n",
      "\n",
      "initCodes :: [Code]\n",
      "initCodes = [[Red],[Green],[Blue],[Yellow],[Orange],[Purple]]\n",
      "-- initCodes = [[Red],[Blue]]\n",
      "\n",
      "-- allPegs = [Red, Blue]\n",
      "\n",
      "-- Takes a list of Codes of length n-1, and returns a list of Codes of length n\n",
      "-- Input: all possible codes, length n-1; Output: all possible codes, length n;\n",
      "-- Solution: For each possible color, c, output += (Code c : input)\n",
      "-- \n",
      "\n",
      "helper :: [Code] -> [Code]\n",
      "helper [] = []\n",
      "helper (x:xs) = merge (addPegsCode allPegs x)  (helper xs)\n",
      "\n",
      "\n",
      "-- Ex: helper [ [Red], [Blue] ] -> [ [Red, Red], [Red, Blue], [Blue, Red], [Blue, Blue] ]\n",
      "testCodes :: [Code]\n",
      "testCodes = [[Red], [Blue]]\n",
      "\n",
      "helper testCodes\n",
      "-- addPegsCode allPegs testCodes\n",
      "\n",
      "\n",
      "\n",
      "\n"
     ],
     "language": "python",
     "metadata": {
      "hidden": false
     },
     "outputs": [
      {
       "metadata": {},
       "output_type": "display_data",
       "text": [
        "[[Red,Red],[Red,Blue],[Green,Red],[Green,Blue],[Blue,Red],[Blue,Blue],[Yellow,Red],[Yellow,Blue],[Orange,Red],[Orange,Blue],[Purple,Red],[Purple,Blue]]"
       ]
      }
     ],
     "prompt_number": 8
    },
    {
     "cell_type": "code",
     "collapsed": false,
     "input": [
      "a :: [Code]\n",
      "b :: [Code]\n",
      "a = [[Red,Red],[Orange,Orange]]\n",
      "b = [[Blue,Blue],[Green,Green]]\n",
      "\n",
      "merge b a\n"
     ],
     "language": "python",
     "metadata": {
      "hidden": false
     },
     "outputs": [
      {
       "metadata": {},
       "output_type": "display_data",
       "text": [
        "[[Blue,Blue],[Red,Red],[Green,Green],[Orange,Orange]]"
       ]
      }
     ],
     "prompt_number": 9
    },
    {
     "cell_type": "code",
     "collapsed": false,
     "input": [
      "merge :: [a] -> [a] -> [a]\n",
      "merge xs [] = xs\n",
      "merge [] ys = ys\n",
      "merge (x:xs) (y:ys) = x : y : merge xs ys"
     ],
     "language": "python",
     "metadata": {
      "hidden": false
     },
     "outputs": [],
     "prompt_number": 7
    },
    {
     "cell_type": "code",
     "collapsed": false,
     "input": [
      "allCodes :: Int -> [Code]\n",
      "allCodes 0 = []\n",
      "allCodes 1 = initCodes\n",
      "allCodes n = helper (allCodes (n-1))\n",
      "\n",
      "allCodes 2"
     ],
     "language": "python",
     "metadata": {
      "hidden": false
     },
     "outputs": [
      {
       "metadata": {},
       "output_type": "display_data",
       "text": [
        "[[Red,Red],[Red,Green],[Green,Red],[Red,Blue],[Blue,Red],[Green,Green],[Yellow,Red],[Red,Yellow],[Orange,Red],[Blue,Green],[Purple,Red],[Green,Blue],[Yellow,Green],[Red,Orange],[Orange,Green],[Blue,Blue],[Purple,Green],[Green,Yellow],[Yellow,Blue],[Red,Purple],[Orange,Blue],[Blue,Yellow],[Purple,Blue],[Green,Orange],[Yellow,Yellow],[Green,Purple],[Orange,Yellow],[Blue,Orange],[Purple,Yellow],[Blue,Purple],[Yellow,Orange],[Yellow,Purple],[Orange,Orange],[Orange,Purple],[Purple,Orange],[Purple,Purple]]"
       ]
      }
     ],
     "prompt_number": 10
    },
    {
     "cell_type": "code",
     "collapsed": false,
     "input": [
      "solve :: Code -> [Move]\n",
      "solve [] = []\n",
      "solve code\n",
      "-- Input: The secret code we are trying to guess\n",
      "-- Output: A list of steps to get from Red, Red, ..., Red to Code\n",
      "secret :: Code\n",
      "secret = [Red, Blue, Green, Orange]\n"
     ],
     "language": "python",
     "metadata": {
      "hidden": false
     },
     "outputs": []
    },
    {
     "cell_type": "code",
     "collapsed": false,
     "input": [
      "c :: Code\n",
      "c = [Red, Blue]\n",
      "\n",
      "length c\n",
      "allCodes (length c)"
     ],
     "language": "python",
     "metadata": {
      "hidden": false
     },
     "outputs": [
      {
       "metadata": {},
       "output_type": "display_data",
       "text": [
        "2"
       ]
      },
      {
       "metadata": {},
       "output_type": "display_data",
       "text": [
        "[[Red,Red],[Red,Green],[Green,Red],[Red,Blue],[Blue,Red],[Green,Green],[Yellow,Red],[Red,Yellow],[Orange,Red],[Blue,Green],[Purple,Red],[Green,Blue],[Yellow,Green],[Red,Orange],[Orange,Green],[Blue,Blue],[Purple,Green],[Green,Yellow],[Yellow,Blue],[Red,Purple],[Orange,Blue],[Blue,Yellow],[Purple,Blue],[Green,Orange],[Yellow,Yellow],[Green,Purple],[Orange,Yellow],[Blue,Orange],[Purple,Yellow],[Blue,Purple],[Yellow,Orange],[Yellow,Purple],[Orange,Orange],[Orange,Purple],[Purple,Orange],[Purple,Purple]]"
       ]
      }
     ],
     "prompt_number": 14
    },
    {
     "cell_type": "code",
     "collapsed": false,
     "input": [],
     "language": "python",
     "metadata": {
      "hidden": false
     },
     "outputs": []
    }
   ],
   "metadata": {}
  }
 ]
}