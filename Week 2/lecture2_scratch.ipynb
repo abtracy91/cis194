{
 "metadata": {
  "language": "haskell",
  "signature": "sha256:fbedbbd01072e8628cf3f99b0850ce71893146faf20c46bd5c5906720a5de7c1"
 },
 "nbformat": 3,
 "nbformat_minor": 0,
 "worksheets": [
  {
   "cells": [
    {
     "cell_type": "code",
     "collapsed": false,
     "input": [
      "strLength :: String -> Int\n",
      "strLength [] = 0\n",
      "strLength (_:xs) = let len_rest = strLength xs in\n",
      "                   len_rest + 1\n",
      "\n",
      "strLength \"abc\""
     ],
     "language": "python",
     "metadata": {},
     "outputs": [
      {
       "metadata": {},
       "output_type": "display_data",
       "text": [
        "3"
       ]
      }
     ],
     "prompt_number": 1
    },
    {
     "cell_type": "code",
     "collapsed": false,
     "input": [
      "sumTo20 :: [Int] -> Int\n",
      "sumTo20 nums = go 0 nums\n",
      " where go :: Int -> [Int] -> Int\n",
      "       go acc [] = acc -- empty list: return acc sum\n",
      "       go acc (x:xs)\n",
      "        | acc >= 20 = acc\n",
      "        | otherwise = go (acc + x) xs\n",
      "\n",
      "sumTo20 [4,9,10,2,8]"
     ],
     "language": "python",
     "metadata": {
      "hidden": false
     },
     "outputs": [
      {
       "metadata": {},
       "output_type": "display_data",
       "text": [
        "23"
       ]
      }
     ],
     "prompt_number": 1
    },
    {
     "cell_type": "code",
     "collapsed": false,
     "input": [
      "4 + 9 +10"
     ],
     "language": "python",
     "metadata": {
      "hidden": false
     },
     "outputs": [
      {
       "metadata": {},
       "output_type": "display_data",
       "text": [
        "23"
       ]
      }
     ],
     "prompt_number": 3
    },
    {
     "cell_type": "code",
     "collapsed": false,
     "input": [
      "head [1,3,4]"
     ],
     "language": "python",
     "metadata": {
      "hidden": false
     },
     "outputs": [
      {
       "metadata": {},
       "output_type": "display_data",
       "text": [
        "1"
       ]
      }
     ],
     "prompt_number": 4
    },
    {
     "cell_type": "code",
     "collapsed": false,
     "input": [],
     "language": "python",
     "metadata": {
      "hidden": false
     },
     "outputs": []
    }
   ],
   "metadata": {}
  }
 ]
}