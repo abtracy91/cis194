{
 "metadata": {
  "language": "haskell",
  "signature": "sha256:28e8c775f1d4c5167addb7cec0a5a06b7476d3441b0e465ec9247a97a0555701"
 },
 "nbformat": 3,
 "nbformat_minor": 0,
 "worksheets": [
  {
   "cells": [
    {
     "cell_type": "code",
     "collapsed": false,
     "input": [],
     "language": "python",
     "metadata": {},
     "outputs": []
    },
    {
     "cell_type": "code",
     "collapsed": false,
     "input": [
      "-- In code cells, you can write Haskell code.\n",
      "-- Press Shift-Enter or Ctrl-Enter to run and evaluate the code.\n",
      "-- Shift-Enter creates a new cell after running your code.\n",
      "fibs = 0 : 1 : zipWith (+) fibs (tail fibs)\n",
      "let fifth = fibs !! 5\n",
      "print fifth"
     ],
     "language": "python",
     "metadata": {},
     "outputs": []
    },
    {
     "cell_type": "code",
     "collapsed": false,
     "input": [
      "gt100 :: Integer -> Bool\n",
      "gt100 x = x > 100\n",
      "\n",
      "greaterThan100 :: [Integer] -> [Integer]\n",
      "greaterThan100 xs = filter gt100 xs"
     ],
     "language": "python",
     "metadata": {},
     "outputs": [],
     "prompt_number": 2
    },
    {
     "cell_type": "code",
     "collapsed": false,
     "input": [
      "greaterThan100 [1, 100, 101]\n",
      "greaterThan100 [101, 1]\n"
     ],
     "language": "python",
     "metadata": {},
     "outputs": [
      {
       "metadata": {},
       "output_type": "display_data",
       "text": [
        "[101]"
       ]
      },
      {
       "metadata": {},
       "output_type": "display_data",
       "text": [
        "[101]"
       ]
      }
     ],
     "prompt_number": 3
    },
    {
     "cell_type": "code",
     "collapsed": false,
     "input": [
      "greaterThan100_2 :: [Integer] -> [Integer]\n",
      "greaterThan100_2 xs = filter (\\x -> x > 100) xs\n",
      "\n",
      "greaterThan100_2 [101]\n",
      "greaterThan100_2 [101, 2]"
     ],
     "language": "python",
     "metadata": {},
     "outputs": [
      {
       "html": [
        " <div class=\"suggestion-name\" style=\"clear:both;\">Avoid lambda</div>  <div class=\"suggestion-row\" style=\"float: left;\"> <div class=\"suggestion-warning\">Found:</div>  <div class=\"highlight-code\" id=\"haskell\">\\ x -> x > 100</div> </div>  <div class=\"suggestion-row\" style=\"float: left;\"> <div class=\"suggestion-warning\">Why Not:</div>  <div class=\"highlight-code\" id=\"haskell\">(> 100)</div> </div> "
       ],
       "metadata": {},
       "output_type": "display_data",
       "text": [
        "Line 2: Avoid lambda\n",
        "Found:\n",
        "\\ x -> x > 100\n",
        "Why not:\n",
        "(> 100)"
       ]
      },
      {
       "metadata": {},
       "output_type": "display_data",
       "text": [
        "[101]"
       ]
      },
      {
       "metadata": {},
       "output_type": "display_data",
       "text": [
        "[101]"
       ]
      }
     ],
     "prompt_number": 4
    },
    {
     "cell_type": "code",
     "collapsed": false,
     "input": [
      "greaterThan100_3 :: [Integer] -> [Integer]\n",
      "greaterThan100_3 xs = filter (> 100) xs\n",
      "\n",
      "greaterThan100_3 [101, 1]"
     ],
     "language": "python",
     "metadata": {},
     "outputs": [
      {
       "metadata": {},
       "output_type": "display_data",
       "text": [
        "[101]"
       ]
      }
     ],
     "prompt_number": 5
    },
    {
     "cell_type": "code",
     "collapsed": false,
     "input": [
      "foo :: (b -> c) -> (a -> b) -> (a -> c)\n",
      "foo f g = \\x -> f (g x)\n",
      "\n"
     ],
     "language": "python",
     "metadata": {},
     "outputs": []
    }
   ],
   "metadata": {}
  }
 ]
}