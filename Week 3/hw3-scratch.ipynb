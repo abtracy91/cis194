{
 "metadata": {
  "language": "haskell",
  "signature": "sha256:e87a1e122e9f9f06fb45defa2ba87498a67a9e71dccc8eb3779af71a718f34e7"
 },
 "nbformat": 3,
 "nbformat_minor": 0,
 "worksheets": [
  {
   "cells": [
    {
     "cell_type": "code",
     "collapsed": false,
     "input": [
      "type State = String -> Int"
     ],
     "language": "python",
     "metadata": {
      "hidden": false
     },
     "outputs": [],
     "prompt_number": 2
    },
    {
     "cell_type": "code",
     "collapsed": false,
     "input": [
      "data Expression =\n",
      "    Var String\n",
      "    | Val Int\n",
      "    | Op Expression Bop Expression\n",
      "    deriving (Show, Eq)\n",
      "\n",
      "data Bop =\n",
      "    Plus\n",
      "    | Minus\n",
      "    | Times\n",
      "    | Divide\n",
      "    | Gt\n",
      "    | Ge\n",
      "    | Lt\n",
      "    | Le\n",
      "    | Eql\n",
      "    deriving (Show, Eq)\n",
      "\n",
      "data Statement =\n",
      "    Assign   String     Expression\n",
      "  | Incr     String\n",
      "  | If       Expression Statement  Statement\n",
      "  | While    Expression Statement       \n",
      "  | For      Statement  Expression Statement Statement\n",
      "  | Sequence Statement  Statement        \n",
      "  | Skip\n",
      "  deriving (Show, Eq)"
     ],
     "language": "python",
     "metadata": {
      "hidden": false
     },
     "outputs": [],
     "prompt_number": 21
    },
    {
     "cell_type": "code",
     "collapsed": false,
     "input": [
      "extend :: State -> String -> Int -> State\n",
      "-- extend: existing State, String -> Int pair to add to State, Result: new state\n",
      "-- ex: extend State(\"a\", 1) (\"b\", 2) => State(\"a\",1, \"b\",2)\n",
      "extend st str1 val str2 = if str1 == str2 then val else st str2\n"
     ],
     "language": "python",
     "metadata": {},
     "outputs": [],
     "prompt_number": 4
    },
    {
     "cell_type": "code",
     "collapsed": false,
     "input": [
      "s :: State\n",
      "s \"a\" = 3\n",
      "s \"b\" = 4\n",
      "s \"b\""
     ],
     "language": "python",
     "metadata": {},
     "outputs": [
      {
       "metadata": {},
       "output_type": "display_data",
       "text": [
        "4"
       ]
      }
     ],
     "prompt_number": 5
    },
    {
     "cell_type": "code",
     "collapsed": false,
     "input": [
      "empty :: State\n",
      "empty _ = 0"
     ],
     "language": "python",
     "metadata": {
      "hidden": false
     },
     "outputs": [],
     "prompt_number": 6
    },
    {
     "cell_type": "code",
     "collapsed": false,
     "input": [
      "empty \"3\""
     ],
     "language": "python",
     "metadata": {},
     "outputs": [
      {
       "metadata": {},
       "output_type": "display_data",
       "text": [
        "0"
       ]
      }
     ],
     "prompt_number": 25
    },
    {
     "cell_type": "code",
     "collapsed": false,
     "input": [
      "s0 = empty\n",
      "s1 = empty\n"
     ],
     "language": "python",
     "metadata": {
      "hidden": false
     },
     "outputs": [],
     "prompt_number": 7
    },
    {
     "cell_type": "code",
     "collapsed": false,
     "input": [
      "s0 = empty\n",
      "s1 = extend s0 \"a\" 4\n",
      "s2 = extend s1 \"b\" 5"
     ],
     "language": "python",
     "metadata": {
      "hidden": false
     },
     "outputs": [],
     "prompt_number": 9
    },
    {
     "cell_type": "code",
     "collapsed": false,
     "input": [
      "s1 \"z\"\n",
      "s1 \"a\"\n",
      "s2 \"a\"\n",
      "s2 \"z\"\n",
      "s2 \"b\""
     ],
     "language": "python",
     "metadata": {
      "hidden": false
     },
     "outputs": [
      {
       "metadata": {},
       "output_type": "display_data",
       "text": [
        "0"
       ]
      },
      {
       "metadata": {},
       "output_type": "display_data",
       "text": [
        "4"
       ]
      },
      {
       "metadata": {},
       "output_type": "display_data",
       "text": [
        "4"
       ]
      },
      {
       "metadata": {},
       "output_type": "display_data",
       "text": [
        "0"
       ]
      },
      {
       "metadata": {},
       "output_type": "display_data",
       "text": [
        "5"
       ]
      }
     ],
     "prompt_number": 10
    },
    {
     "cell_type": "code",
     "collapsed": false,
     "input": [
      "boolToInt :: Bool -> Int\n",
      "boolToInt b = if b then 1 else 0\n",
      "\n",
      "evalE :: State -> Expression -> Int\n",
      "evalE s (Var v) = s v -- Add var to state\n",
      "evalE s (Val n) = n -- Val n is just a number\n",
      "evalE s (Op lhs op rhs) =\n",
      "    case op of\n",
      "        Plus -> x + y\n",
      "        Minus -> x - y\n",
      "        Times -> x * y\n",
      "        Divide -> x `div` y\n",
      "        Gt -> boolToInt $ x > y\n",
      "        Ge -> boolToInt $ x >= y\n",
      "        Lt -> boolToInt $ x < y\n",
      "        Le -> boolToInt $ x <= y\n",
      "        Eql -> boolToInt $ x == y\n",
      "    where x = evalE s lhs\n",
      "          y = evalE s rhs\n",
      "evalE empty (Val 5)"
     ],
     "language": "python",
     "metadata": {
      "hidden": false
     },
     "outputs": [
      {
       "metadata": {},
       "output_type": "display_data",
       "text": [
        "5"
       ]
      }
     ],
     "prompt_number": 11
    },
    {
     "cell_type": "code",
     "collapsed": false,
     "input": [
      "data DietStatement = DAssign String Expression\n",
      "                   | DIf Expression DietStatement DietStatement\n",
      "                   | DWhile Expression DietStatement\n",
      "                   | DSequence DietStatement DietStatement\n",
      "                   | DSkip\n",
      "                     deriving (Show, Eq)"
     ],
     "language": "python",
     "metadata": {
      "hidden": false
     },
     "outputs": [],
     "prompt_number": 23
    },
    {
     "cell_type": "code",
     "collapsed": false,
     "input": [
      "-- Exercise 4\n",
      "-- Example: desugar (Incr \"A\") == DAssign \"A\" (Op (var \"A\") Plus (Val 1))\n",
      "\n",
      "desugar :: Statement -> DietStatement\n",
      "desugar (Assign v e) = DAssign v e\n",
      "desugar (Incr v) = DAssign v (Op (Var v) Plus (Val 1))\n",
      "desugar (If e s1 s2) = DIf e (desugar s1) (desugar s2)\n",
      "desugar (While e s) = DWhile e (desugar s)\n",
      "desugar (For i e th el) = DSequence (desugar i) (DWhile e (DSequence (desugar th) (desugar el)))\n",
      "desugar (Sequence x y) = DSequence (desugar x) (desugar y)\n",
      "desugar Skip = DSkip\n",
      "\n",
      "desugar (Incr \"A\")"
     ],
     "language": "python",
     "metadata": {
      "hidden": false
     },
     "outputs": [
      {
       "metadata": {},
       "output_type": "display_data",
       "text": [
        "DAssign \"A\" (Op (Var \"A\") Plus (Val 1))"
       ]
      }
     ],
     "prompt_number": 25
    },
    {
     "cell_type": "code",
     "collapsed": false,
     "input": [],
     "language": "python",
     "metadata": {
      "hidden": false
     },
     "outputs": []
    }
   ],
   "metadata": {}
  }
 ]
}